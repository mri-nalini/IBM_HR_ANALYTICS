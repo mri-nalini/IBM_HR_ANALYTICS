{
  "cells": [
    {
      "cell_type": "code",
      "execution_count": 1,
      "metadata": {
        "id": "KrT55UN5IrvE"
      },
      "outputs": [],
      "source": [
        "import numpy as np\n",
        "import pandas as pd\n",
        "import seaborn as sns\n",
        "from sklearn.model_selection import train_test_split\n",
        "from sklearn.metrics import accuracy_score,classification_report\n",
        "import matplotlib.pyplot as plt\n",
        "from sklearn import tree\n"
      ]
    },
    {
      "cell_type": "code",
      "execution_count": 2,
      "metadata": {
        "id": "TJwo11ycMFrD"
      },
      "outputs": [],
      "source": [
        "hrattr_data = pd.read_csv(\"C:/Users/user/Downloads/emp.csv\")"
      ]
    },
    {
      "cell_type": "code",
      "execution_count": 3,
      "metadata": {
        "colab": {
          "base_uri": "https://localhost:8080/"
        },
        "id": "luHfpDn5NR7I",
        "outputId": "df0150d6-e1f6-45e3-d08f-9277d1b6ad3e"
      },
      "outputs": [
        {
          "name": "stdout",
          "output_type": "stream",
          "text": [
            "   Age Attrition     BusinessTravel  DailyRate              Department  \\\n",
            "0   41       Yes      Travel_Rarely       1102                   Sales   \n",
            "1   49        No  Travel_Frequently        279  Research & Development   \n",
            "2   37       Yes      Travel_Rarely       1373  Research & Development   \n",
            "3   33        No  Travel_Frequently       1392  Research & Development   \n",
            "4   27        No      Travel_Rarely        591  Research & Development   \n",
            "\n",
            "   DistanceFromHome  Education EducationField  EmployeeCount  EmployeeNumber  \\\n",
            "0                 1          2  Life Sciences              1               1   \n",
            "1                 8          1  Life Sciences              1               2   \n",
            "2                 2          2          Other              1               4   \n",
            "3                 3          4  Life Sciences              1               5   \n",
            "4                 2          1        Medical              1               7   \n",
            "\n",
            "   ...  RelationshipSatisfaction StandardHours  StockOptionLevel  \\\n",
            "0  ...                         1            80                 0   \n",
            "1  ...                         4            80                 1   \n",
            "2  ...                         2            80                 0   \n",
            "3  ...                         3            80                 0   \n",
            "4  ...                         4            80                 1   \n",
            "\n",
            "   TotalWorkingYears  TrainingTimesLastYear WorkLifeBalance  YearsAtCompany  \\\n",
            "0                  8                      0               1               6   \n",
            "1                 10                      3               3              10   \n",
            "2                  7                      3               3               0   \n",
            "3                  8                      3               3               8   \n",
            "4                  6                      3               3               2   \n",
            "\n",
            "  YearsInCurrentRole  YearsSinceLastPromotion  YearsWithCurrManager  \n",
            "0                  4                        0                     5  \n",
            "1                  7                        1                     7  \n",
            "2                  0                        0                     0  \n",
            "3                  7                        3                     0  \n",
            "4                  2                        2                     2  \n",
            "\n",
            "[5 rows x 35 columns]\n"
          ]
        }
      ],
      "source": [
        "print (hrattr_data.head())"
      ]
    },
    {
      "cell_type": "code",
      "execution_count": 4,
      "metadata": {
        "colab": {
          "base_uri": "https://localhost:8080/",
          "height": 467
        },
        "id": "fDjuOy65NSQP",
        "outputId": "f1bfe330-847d-4acb-8a7d-ce0617c5e3eb"
      },
      "outputs": [
        {
          "data": {
            "text/plain": [
              "<Axes: xlabel='Attrition', ylabel='count'>"
            ]
          },
          "execution_count": 4,
          "metadata": {},
          "output_type": "execute_result"
        },
        {
          "data": {
            "image/png": "[encoded data removed]",
            "text/plain": [
              "<Figure size 640x480 with 1 Axes>"
            ]
          },
          "metadata": {},
          "output_type": "display_data"
        }
      ],
      "source": [
        "hrattr_data['Attrition_ind'] = 0\n",
        "hrattr_data.loc[hrattr_data['Attrition']=='Yes','Attrition_ind'] = 1\n",
        "\n",
        "sns.countplot(x='Attrition', data=hrattr_data)"
      ]
    },
    {
      "cell_type": "code",
      "execution_count": 5,
      "metadata": {
        "id": "0va1-2VINSS7"
      },
      "outputs": [],
      "source": [
        "dummy_busnstrvl = pd.get_dummies(hrattr_data['BusinessTravel'],prefix='busns_trvl')\n",
        "dummy_dept = pd.get_dummies(hrattr_data['Department'],prefix='dept')\n",
        "dummy_edufield = pd.get_dummies(hrattr_data['EducationField'],prefix='edufield')\n",
        "dummy_gender = pd.get_dummies(hrattr_data['Gender'],prefix='gend')\n",
        "dummy_jobrole = pd.get_dummies(hrattr_data['JobRole'],prefix='jobrole')\n",
        "dummy_maritstat = pd.get_dummies(hrattr_data['MaritalStatus'],prefix='maritalstat')\n",
        "dummy_overtime = pd.get_dummies(hrattr_data['OverTime'],prefix='overtime')\n",
        "\n"
      ]
    },
    {
      "cell_type": "code",
      "execution_count": 6,
      "metadata": {
        "colab": {
          "base_uri": "https://localhost:8080/"
        },
        "id": "M3nAOz0xNSVy",
        "outputId": "bf116caf-391f-4e8a-84fa-9140f3cc357b"
      },
      "outputs": [
        {
          "data": {
            "text/plain": [
              "BusinessTravel\n",
              "Travel_Rarely        1043\n",
              "Travel_Frequently     277\n",
              "Non-Travel            150\n",
              "Name: count, dtype: int64"
            ]
          },
          "execution_count": 6,
          "metadata": {},
          "output_type": "execute_result"
        }
      ],
      "source": [
        "continuous_columns = ['Age','DailyRate','DistanceFromHome','Education','EnvironmentSatisfaction',\n",
        "'HourlyRate', 'JobInvolvement', 'JobLevel','JobSatisfaction','MonthlyIncome', 'MonthlyRate', 'NumCompaniesWorked',\n",
        "'PercentSalaryHike', 'PerformanceRating', 'RelationshipSatisfaction','StockOptionLevel', 'TotalWorkingYears',\n",
        "'TrainingTimesLastYear','WorkLifeBalance', 'YearsAtCompany', 'YearsInCurrentRole', 'YearsSinceLastPromotion',\n",
        "'YearsWithCurrManager']\n",
        "\n",
        "hrattr_continuous = hrattr_data[continuous_columns]\n",
        "\n",
        "hrattr_continuous['Age'].describe()\n",
        "hrattr_data['BusinessTravel'].value_counts()\n",
        "\n"
      ]
    },
    {
      "cell_type": "code",
      "execution_count": 7,
      "metadata": {
        "id": "I0YL1QRrNSYk"
      },
      "outputs": [],
      "source": [
        "hrattr_data_new = pd.concat([dummy_busnstrvl,dummy_dept,dummy_edufield,dummy_gender,dummy_jobrole,\n",
        "  dummy_maritstat,dummy_overtime,hrattr_continuous,hrattr_data['Attrition_ind']],axis=1)\n",
        "\n"
      ]
    },
    {
      "cell_type": "code",
      "execution_count": 8,
      "metadata": {
        "id": "dpXgqE8fNSbg"
      },
      "outputs": [],
      "source": [
        "# Train & Test split\n",
        "x_train,x_test,y_train,y_test = train_test_split(hrattr_data_new.drop(['Attrition_ind'],axis=1),\n",
        "                                                 hrattr_data_new['Attrition_ind'],train_size = 0.7,random_state=42)\n",
        "\n"
      ]
    },
    {
      "cell_type": "code",
      "execution_count": 9,
      "metadata": {
        "colab": {
          "base_uri": "https://localhost:8080/"
        },
        "id": "pJKPEDSxNSeu",
        "outputId": "179f7fac-655a-4dd7-ef54-875cf41935a0"
      },
      "outputs": [
        {
          "name": "stdout",
          "output_type": "stream",
          "text": [
            "\n",
            "Decision Tree - Train Confusion Matrix\n",
            "\n",
            " Predicted    0   1\n",
            "Actuall           \n",
            "0          844   9\n",
            "1           98  78\n",
            "\n",
            "Decision Tree - Train accuracy: 0.896\n",
            "\n",
            "Decision Tree - Train Classification Report\n",
            "               precision    recall  f1-score   support\n",
            "\n",
            "           0       0.90      0.99      0.94       853\n",
            "           1       0.90      0.44      0.59       176\n",
            "\n",
            "    accuracy                           0.90      1029\n",
            "   macro avg       0.90      0.72      0.77      1029\n",
            "weighted avg       0.90      0.90      0.88      1029\n",
            "\n",
            "\n",
            "\n",
            "Decision Tree - Test Confusion Matrix\n",
            "\n",
            " Predicted    0   1\n",
            "Actuall           \n",
            "0          361  19\n",
            "1           49  12\n",
            "\n",
            "Decision Tree - Test accuracy: 0.846\n",
            "\n",
            "Decision Tree - Test Classification Report\n",
            "               precision    recall  f1-score   support\n",
            "\n",
            "           0       0.88      0.95      0.91       380\n",
            "           1       0.39      0.20      0.26        61\n",
            "\n",
            "    accuracy                           0.85       441\n",
            "   macro avg       0.63      0.57      0.59       441\n",
            "weighted avg       0.81      0.85      0.82       441\n",
            "\n"
          ]
        }
      ],
      "source": [
        "# Decision Tree Classifier\n",
        "from sklearn.tree import DecisionTreeClassifier\n",
        "dt_fit = DecisionTreeClassifier(criterion=\"gini\",max_depth=5,min_samples_split=2,min_samples_leaf=1,random_state=42)\n",
        "dt_fit.fit(x_train,y_train)\n",
        "\n",
        "print (\"\\nDecision Tree - Train Confusion Matrix\\n\\n\",pd.crosstab(y_train,dt_fit.predict(x_train),rownames = [\"Actuall\"],colnames = [\"Predicted\"]))\n",
        "print (\"\\nDecision Tree - Train accuracy:\",round(accuracy_score(y_train,dt_fit.predict(x_train)),3))\n",
        "print (\"\\nDecision Tree - Train Classification Report\\n\",classification_report(y_train,dt_fit.predict(x_train)))\n",
        "\n",
        "print (\"\\n\\nDecision Tree - Test Confusion Matrix\\n\\n\",pd.crosstab(y_test,dt_fit.predict(x_test),rownames = [\"Actuall\"],colnames = [\"Predicted\"]))\n",
        "print (\"\\nDecision Tree - Test accuracy:\",round(accuracy_score(y_test,dt_fit.predict(x_test)),3))\n",
        "print (\"\\nDecision Tree - Test Classification Report\\n\",classification_report(y_test,dt_fit.predict(x_test)))\n",
        "\n",
        "\n",
        "\n"
      ]
    },
    {
      "cell_type": "code",
      "execution_count": 10,
      "metadata": {
        "colab": {
          "base_uri": "https://localhost:8080/"
        },
        "id": "G36Mms_bNSif",
        "outputId": "1f820efa-d74b-4e39-89db-ba9afc9601e8"
      },
      "outputs": [
        {
          "data": {
            "text/plain": [
              "['busns_trvl_Non-Travel',\n",
              " 'busns_trvl_Travel_Frequently',\n",
              " 'busns_trvl_Travel_Rarely',\n",
              " 'dept_Human Resources',\n",
              " 'dept_Research & Development',\n",
              " 'dept_Sales',\n",
              " 'edufield_Human Resources',\n",
              " 'edufield_Life Sciences',\n",
              " 'edufield_Marketing',\n",
              " 'edufield_Medical',\n",
              " 'edufield_Other',\n",
              " 'edufield_Technical Degree',\n",
              " 'gend_Female',\n",
              " 'gend_Male',\n",
              " 'jobrole_Healthcare Representative',\n",
              " 'jobrole_Human Resources',\n",
              " 'jobrole_Laboratory Technician',\n",
              " 'jobrole_Manager',\n",
              " 'jobrole_Manufacturing Director',\n",
              " 'jobrole_Research Director',\n",
              " 'jobrole_Research Scientist',\n",
              " 'jobrole_Sales Executive',\n",
              " 'jobrole_Sales Representative',\n",
              " 'maritalstat_Divorced',\n",
              " 'maritalstat_Married',\n",
              " 'maritalstat_Single',\n",
              " 'overtime_No',\n",
              " 'overtime_Yes',\n",
              " 'Age',\n",
              " 'DailyRate',\n",
              " 'DistanceFromHome',\n",
              " 'Education',\n",
              " 'EnvironmentSatisfaction',\n",
              " 'HourlyRate',\n",
              " 'JobInvolvement',\n",
              " 'JobLevel',\n",
              " 'JobSatisfaction',\n",
              " 'MonthlyIncome',\n",
              " 'MonthlyRate',\n",
              " 'NumCompaniesWorked',\n",
              " 'PercentSalaryHike',\n",
              " 'PerformanceRating',\n",
              " 'RelationshipSatisfaction',\n",
              " 'StockOptionLevel',\n",
              " 'TotalWorkingYears',\n",
              " 'TrainingTimesLastYear',\n",
              " 'WorkLifeBalance',\n",
              " 'YearsAtCompany',\n",
              " 'YearsInCurrentRole',\n",
              " 'YearsSinceLastPromotion',\n",
              " 'YearsWithCurrManager',\n",
              " 'Attrition_ind']"
            ]
          },
          "execution_count": 10,
          "metadata": {},
          "output_type": "execute_result"
        }
      ],
      "source": [
        "feature_names = list(hrattr_data_new.columns)\n",
        "feature_names"
      ]
    },
    {
      "cell_type": "code",
      "execution_count": null,
      "metadata": {
        "id": "9CslaL4KNSlo"
      },
      "outputs": [],
      "source": []
    }
  ],
  "metadata": {
    "colab": {
      "provenance": []
    },
    "kernelspec": {
      "display_name": "Python 3",
      "name": "python3"
    },
    "language_info": {
      "codemirror_mode": {
        "name": "ipython",
        "version": 3
      },
      "file_extension": ".py",
      "mimetype": "text/x-python",
      "name": "python",
      "nbconvert_exporter": "python",
      "pygments_lexer": "ipython3",
      "version": "3.10.0"
    }
  },
  "nbformat": 4,
  "nbformat_minor": 0
}
